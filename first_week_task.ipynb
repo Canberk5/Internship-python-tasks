{
 "cells": [
  {
   "attachments": {},
   "cell_type": "markdown",
   "metadata": {},
   "source": [
    "Python Task\n"
   ]
  },
  {
   "attachments": {},
   "cell_type": "markdown",
   "metadata": {},
   "source": [
    "Q.1. Given an array nums. We define a running sum of an array as runningSum[i] = sum(nums[0],…,nums[i]). Return the running sum of nums.\n",
    "Example:\n",
    "Input: nums = [1,2,3,4]\n",
    "Output: [1,3,6,10]\n",
    "Explanation: Running sum is obtained as follows: [1, 1+2, 1+2+3, 1+2+3+4]"
   ]
  },
  {
   "attachments": {},
   "cell_type": "markdown",
   "metadata": {},
   "source": [
    "Solution\n"
   ]
  },
  {
   "cell_type": "code",
   "execution_count": 24,
   "metadata": {},
   "outputs": [
    {
     "name": "stdout",
     "output_type": "stream",
     "text": [
      "[1, 3, 6, 10]\n"
     ]
    }
   ],
   "source": [
    "nums = [1,2,3,4]\n",
    "running_sum = []\n",
    "total_sum = 0\n",
    "for num in nums:\n",
    "    total_sum += num\n",
    "    running_sum.append(total_sum)\n",
    "print(running_sum)\n"
   ]
  },
  {
   "attachments": {},
   "cell_type": "markdown",
   "metadata": {},
   "source": [
    "Q.2. Given a valid (IPv4) IP address, return a defanged version of that IP address. A defanged IP address replaces every period \".\" with \"[.]\".\n",
    "Example:\n",
    "Input: address = \"1.1.1.1\"\n",
    "Output: \"1[.]1[.]1[.]1\""
   ]
  },
  {
   "attachments": {},
   "cell_type": "markdown",
   "metadata": {},
   "source": [
    "Solution"
   ]
  },
  {
   "cell_type": "code",
   "execution_count": 25,
   "metadata": {},
   "outputs": [
    {
     "name": "stdout",
     "output_type": "stream",
     "text": [
      "1[.]1[.]1[.]1\n"
     ]
    }
   ],
   "source": [
    "address = \"1.1.1.1\"\n",
    "defanged = \"\"\n",
    "for add in address:\n",
    "    if add == \".\":\n",
    "        defanged += \"[.]\"\n",
    "    else:\n",
    "        defanged += add \n",
    "print(defanged)           \n",
    "     "
   ]
  },
  {
   "attachments": {},
   "cell_type": "markdown",
   "metadata": {},
   "source": [
    "jasdjfajsdfjsadfjsdfj"
   ]
  },
  {
   "attachments": {},
   "cell_type": "markdown",
   "metadata": {},
   "source": [
    "Q.3. Given the array nums consisting of 2n elements in the form [x1,x2,...,xn,y1,y2,...,yn]. Return the array in the form [x1,y1,x2,y2,...,xn,yn].\n",
    "Example:\n",
    "Input: nums = [2,5,1,3,4,7], n = 3\n",
    "Output: [2,3,5,4,1,7]\n",
    "Explanation: Since x1=2, x2=5, x3=1, y1=3, y2=4, y3=7 then the answer is [2,3,5,4,1,7].\n"
   ]
  },
  {
   "attachments": {},
   "cell_type": "markdown",
   "metadata": {},
   "source": [
    "Solution"
   ]
  },
  {
   "cell_type": "code",
   "execution_count": 27,
   "metadata": {},
   "outputs": [
    {
     "name": "stdout",
     "output_type": "stream",
     "text": [
      "[2, 3, 5, 4, 1, 7]\n"
     ]
    }
   ],
   "source": [
    "def new_array(nums,n):\n",
    "    x = nums[:n]\n",
    "    y = nums[n:]\n",
    "    result =[]\n",
    "    for i in range(n):\n",
    "        result.append(x[i])\n",
    "        result.append(y[i])\n",
    "    return result    \n",
    "nums = [2,5,1,3,4,7]\n",
    "n = 3\n",
    "output = new_array(nums,n)\n",
    "print(output)"
   ]
  },
  {
   "attachments": {},
   "cell_type": "markdown",
   "metadata": {},
   "source": [
    "Q.4. You are given an m x n integer grid accounts where accounts[i][j] is the amount of money the ith customer has in the jth bank. Return the wealth that the richest customer has. A customer's wealth is the amount of money they have in all their bank accounts. The richest customer is the customer that has the maximum wealth.\n",
    "\n",
    "Example:\n",
    "Input: accounts = [[1,2,3],[3,2,1]]\n",
    "Output: 6\n",
    "Explanation: 1st customer has wealth = 1 + 2 + 3 = 6 2nd customer has wealth = 3 + 2 + 1 = 6 Both customers are considered the richest with a wealth of 6 each, so return 6."
   ]
  },
  {
   "attachments": {},
   "cell_type": "markdown",
   "metadata": {},
   "source": [
    "Solution"
   ]
  },
  {
   "cell_type": "code",
   "execution_count": 2,
   "metadata": {},
   "outputs": [
    {
     "name": "stdout",
     "output_type": "stream",
     "text": [
      "6\n"
     ]
    }
   ],
   "source": [
    "accounts = [[1,2,3],[3,2,1]]\n",
    "richest_customer = float()\n",
    "\n",
    "for customer in accounts:\n",
    "    wealth = sum(customer)\n",
    "    richest_customer = max(richest_customer, wealth)\n",
    "print(richest_customer)    \n",
    "\n",
    "\n"
   ]
  },
  {
   "attachments": {},
   "cell_type": "markdown",
   "metadata": {},
   "source": [
    "Q.5. You are given an array items, where each items[i] = [typei, colori, namei] describes the type, color, and name of the ith item. You are also given a rule represented by two strings, ruleKey and ruleValue.The ith item is said to match the rule if one of the following is true:\n",
    "\n",
    "ruleKey == \"type\" and ruleValue == typei. ruleKey == \"color\" and ruleValue == colori. ruleKey == \"name\" and ruleValue == namei. Return the number of items that match the given rule.\n",
    "Example:\n",
    "Input: items = [[\"phone\",\"blue\",\"pixel\"],[\"computer\",\"silver\",\"lenovo\"],[\"phone\",\"gold\",\"iphone\"]], ruleKey = \"color\", ruleValue = \"silver\"\n",
    "Output: 1\n",
    "Explanation: There is only one item matching the given rule, which is [\"computer\",\"silver\",\"lenovo\"]."
   ]
  },
  {
   "attachments": {},
   "cell_type": "markdown",
   "metadata": {},
   "source": [
    "Solution"
   ]
  },
  {
   "cell_type": "code",
   "execution_count": null,
   "metadata": {},
   "outputs": [],
   "source": [
    "def matching_items(items,ruleKey,ruleValue):\n",
    "    total_count = 0\n",
    "\n",
    "    for item in items:\n",
    "        if ruleKey == \"type\" and ruleValue == item[0]:\n",
    "            total_count += 1\n",
    "        elif ruleKey == \"color\" and ruleValue == item[1]:\n",
    "            total_count += 1\n",
    "        elif ruleKey == \"name\" and ruleValue == item[2]:\n",
    "            total_count += 1\n",
    "    return total_count                \n",
    "\n",
    "\n",
    "\n",
    "items = [[\"phone\", \"blue\", \"pixel\"], [\"computer\", \"silver\", \"lenovo\"], [\"phone\", \"gold\", \"iphone\"]]\n",
    "ruleKey = \"color\"\n",
    "ruleValue = \"silver\"\n",
    "output = matching_items(items, ruleKey, ruleValue)\n",
    "print(output)  \n",
    "\n"
   ]
  },
  {
   "attachments": {},
   "cell_type": "markdown",
   "metadata": {},
   "source": [
    "Q.6. You're given strings jewels representing the types of stones that are jewels, and stones representing the stones you have. Each character in stones is a type of stone you have. You want to know how many of the stones you have are also jewels. Letters are case sensitive, so \"a\" is considered a different type of stone from \"A\".\n",
    "\n",
    "Example 1:\n",
    "Input: jewels = \"aA\", stones = \"aAAbbbb\"\n",
    "Output: 3\n",
    "Example 2:\n",
    "Input: jewels = \"z\", stones = \"ZZ\"\n",
    "Output: 0"
   ]
  },
  {
   "attachments": {},
   "cell_type": "markdown",
   "metadata": {},
   "source": [
    "Solution"
   ]
  },
  {
   "cell_type": "code",
   "execution_count": null,
   "metadata": {},
   "outputs": [],
   "source": [
    "\n",
    "def jewels_count(jewels, stones):\n",
    "    jcount = 0 \n",
    "    for stone in stones:\n",
    "        if stone in jewels:\n",
    "            jcount += 1\n",
    "    return jcount        \n"
   ]
  },
  {
   "attachments": {},
   "cell_type": "markdown",
   "metadata": {},
   "source": [
    "Q.7. Given the array nums, for each nums[i] find out how many numbers in the array are smaller than it. That is, for each nums[i] you have to count the number of valid j's such that j != i and nums[j] < nums[i]. Return the answer in an array.\n",
    "\n",
    "Example:\n",
    "Input: nums = [8,1,2,2,3]\n",
    "Output: [4,0,1,1,3]\n",
    "Explanation: For nums[0]=8 there exist four smaller numbers than it (1, 2, 2 and 3). For nums[1]=1 does not exist any smaller number than it. For nums[2]=2 there exist one smaller number than it (1). For nums[3]=2 there exist one smaller number than it (1). For nums[4]=3 there exist three smaller numbers than it (1, 2 and 2).\n"
   ]
  },
  {
   "attachments": {},
   "cell_type": "markdown",
   "metadata": {},
   "source": [
    "Solution"
   ]
  },
  {
   "cell_type": "code",
   "execution_count": null,
   "metadata": {},
   "outputs": [],
   "source": [
    "def find_smaller(nums):\n",
    "    smaller_nums = []\n",
    "    for i in nums:\n",
    "        smaller_num_counts = 0\n",
    "        for j in nums:\n",
    "            if j != i and j < i:\n",
    "                smaller_num_counts += 1\n",
    "        smaller_nums.append(smaller_num_counts)        \n",
    "    return smaller_nums            \n",
    " \n",
    "nums = [8,1,2,2,3]\n",
    "output = find_smaller(nums)\n",
    "print(output)\n"
   ]
  },
  {
   "attachments": {},
   "cell_type": "markdown",
   "metadata": {},
   "source": [
    "\n",
    "\n",
    "Q.8. Given a non-negative integer num, return the number of steps to reduce it to zero. If the current number is even, you have to divide it by 2, otherwise, you have to subtract 1 from it.\n",
    "\n",
    "Example:\n",
    "Input: num = 14\n",
    "Output: 6\n",
    "Explanation: Step 1) 14 is even; divide by 2 and obtain 7. Step 2) 7 is odd; subtract 1 and obtain 6. Step 3) 6 is even; divide by 2 and obtain 3. Step 4) 3 is odd; subtract 1 and obtain 2. Step 5) 2 is even; divide by 2 and obtain 1. Step 6) 1 is odd; subtract 1 and obtain 0."
   ]
  },
  {
   "attachments": {},
   "cell_type": "markdown",
   "metadata": {},
   "source": [
    "Solution"
   ]
  },
  {
   "cell_type": "code",
   "execution_count": 5,
   "metadata": {},
   "outputs": [
    {
     "name": "stdout",
     "output_type": "stream",
     "text": [
      "6\n"
     ]
    }
   ],
   "source": [
    "def steps_to_zero(num):\n",
    "    number_of_steps = 0\n",
    "    while num != 0:\n",
    "      if num % 2 == 0:\n",
    "         num //= 2\n",
    "         number_of_steps +=1\n",
    "      elif num % 2 == 1:\n",
    "         num -=1 \n",
    "         number_of_steps +=1\n",
    "    \n",
    "    return number_of_steps\n",
    "            \n",
    "num = 14 \n",
    "output = steps_to_zero(num)\n",
    "print(output)            "
   ]
  },
  {
   "attachments": {},
   "cell_type": "markdown",
   "metadata": {},
   "source": [
    "Q.9. Given a string s and an integer array indices of the same length.The string s will be shuffled such that the character at the ith position moves to indices[i] in the shuffled string. Return the shuffled string.\n",
    "\n",
    "Example 1:\n",
    "Input: s = \"codeleet\", indices = [4,5,6,7,0,2,1,3]\n",
    "Output: \"leetcode\"\n",
    "Explanation: As shown, \"codeleet\" becomes \"leetcode\" after shuffling.\n",
    "Example 2:\n",
    "Input: s = \"abc\", indices = [0,1,2]\n",
    "Output: \"abc\"\n",
    "Explanation: After shuffling, each character remains in its position.\n"
   ]
  },
  {
   "cell_type": "code",
   "execution_count": 13,
   "metadata": {},
   "outputs": [
    {
     "name": "stdout",
     "output_type": "stream",
     "text": [
      "leetcdoe\n"
     ]
    }
   ],
   "source": [
    "def restore_string(s, indices):\n",
    "    return ''.join(s[i] for i in indices)\n",
    "\n",
    "\n",
    "s1 = \"codeleet\"\n",
    "indices1 = [4, 5, 6, 7, 0, 2, 1, 3]\n",
    "print(restore_string(s1, indices1))  "
   ]
  },
  {
   "attachments": {},
   "cell_type": "markdown",
   "metadata": {},
   "source": [
    "Solution"
   ]
  },
  {
   "attachments": {},
   "cell_type": "markdown",
   "metadata": {},
   "source": [
    "Q.10. Given an integer number n, return the difference between the product of its digits and the sum of its digits.\n",
    "\n",
    "Example:\n",
    "\n",
    "Input: n = 234\n",
    "\n",
    "Output: 15\n",
    "\n",
    "Explanation: Product of digits = 2 * 3 * 4 = 24 Sum of digits = 2 + 3 + 4 = 9 Result = 24 - 9 = 15"
   ]
  },
  {
   "attachments": {},
   "cell_type": "markdown",
   "metadata": {},
   "source": [
    "Solution"
   ]
  },
  {
   "cell_type": "code",
   "execution_count": 15,
   "metadata": {},
   "outputs": [
    {
     "name": "stdout",
     "output_type": "stream",
     "text": [
      "15\n"
     ]
    }
   ],
   "source": [
    "def difference (n):\n",
    "    multiple= 1\n",
    "    sum_of_nums = 0\n",
    "    for i in str(n):\n",
    "        i = int(i)\n",
    "        multiple *= i\n",
    "        sum_of_nums += i\n",
    "        result = multiple - sum_of_nums\n",
    "    return result    \n",
    "\n",
    "\n",
    "n = 234\n",
    "output = difference(n)\n",
    "print(output)"
   ]
  },
  {
   "attachments": {},
   "cell_type": "markdown",
   "metadata": {},
   "source": [
    "\n",
    "\n",
    "\n",
    "\n",
    "Q.11. We are given a list nums of integers representing a list compressed with run-length encoding. Consider each adjacent pair of elements [freq, val] = [nums[2i], nums[2i+1]] (with i >= 0). For each such pair, there are freq elements with value val concatenated in a sublist. Concatenate all the sublists from left to right to generate the decompressed list. Return the decompressed list.\n",
    "\n",
    "Example 1:\n",
    "Input: nums = [1,2,3,4]\n",
    "Output: [2,4,4,4]\n",
    "Explanation: The first pair [1,2] means we have freq = 1 and val = 2 so we generate the array [2]. The second pair [3,4] means we have freq = 3 and val = 4 so we generate [4,4,4]. At the end the concatenation [2] + [4,4,4] is [2,4,4,4].\n",
    "\n",
    "Example 2:\n",
    "Input: nums = [1,1,2,3]\n",
    "Output: [1,3,3]\n",
    "\n"
   ]
  },
  {
   "attachments": {},
   "cell_type": "markdown",
   "metadata": {},
   "source": [
    "Solution"
   ]
  },
  {
   "cell_type": "code",
   "execution_count": null,
   "metadata": {},
   "outputs": [],
   "source": [
    "def new_list(nums):\n",
    "    decompressed_list = []\n",
    "\n",
    "    for i in range(0,len(nums),2):\n",
    "        freq = nums[i]\n",
    "        val = nums[i + 1]\n",
    "\n",
    "        sublist = [val] * freq\n",
    "        decompressed_list.extend(sublist)\n",
    "    return decompressed_list    \n"
   ]
  },
  {
   "attachments": {},
   "cell_type": "markdown",
   "metadata": {},
   "source": [
    "\n",
    "\n",
    "\n",
    "Q.12. Given the array candies and the integer extraCandies, where candies[i] represents the number of candies that the ith kid has. For each kid check if there is a way to distribute extraCandies among the kids such that he or she can have the greatest number of candies among them. Notice that multiple kids can have the greatest number of candies.\n",
    "\n",
    "Example 1:\n",
    "Input: candies = [2,3,5,1,3], extraCandies = 3\n",
    "Output: [true,true,true,false,true]\n",
    "Explanation: Kid 1 has 2 candies and if he or she receives all extra candies (3) will have 5 candies --- the greatest number of candies among the kids. Kid 2 has 3 candies and if he or she receives at least 2 extra candies will have the greatest number of candies among the kids. Kid 3 has 5 candies and this is already the greatest number of candies among the kids. Kid 4 has 1 candy and even if he or she receives all extra candies will only have 4 candies. Kid 5 has 3 candies and if he or she receives at least 2 extra candies will have the greatest number of candies among the kids.\n",
    "\n",
    "Example 2:\n",
    "Input: candies = [4,2,1,1,2], extraCandies = 1\n",
    "Output: [true,false,false,false,false]\n",
    "Explanation: There is only 1 extra candy, therefore only kid 1 will have the greatest number of candies among the kids regardless of who takes the extra candy.\n"
   ]
  },
  {
   "attachments": {},
   "cell_type": "markdown",
   "metadata": {},
   "source": [
    "Solution"
   ]
  },
  {
   "cell_type": "code",
   "execution_count": 17,
   "metadata": {},
   "outputs": [
    {
     "name": "stdout",
     "output_type": "stream",
     "text": [
      "[True, True, True, False, True]\n"
     ]
    }
   ],
   "source": [
    "def find_greatest(candies, extra_candies):\n",
    "    is_max = []\n",
    "    max_candies = max(candies)\n",
    "    for candy in candies:\n",
    "        if candy + extra_candies >= max_candies:\n",
    "            is_max.append(True)\n",
    "        \n",
    "        else:\n",
    "            is_max.append(False)\n",
    "    return is_max        \n",
    "candies = [2,3,5,1,3]\n",
    "extraCandies = 3\n",
    "output = find_greatest(candies, extraCandies)\n",
    "print(output)"
   ]
  },
  {
   "attachments": {},
   "cell_type": "markdown",
   "metadata": {},
   "source": [
    "\n",
    "\n",
    "\n",
    "\n",
    "Q.13. Given an array of integers nums. A pair (i,j) is called good if nums[i] == nums[j] and i < j. Return the number of good pairs.\n",
    "\n",
    "Example:\n",
    "Input: nums = [1,2,3,1,1,3]\n",
    "Output: 4\n",
    "Explanation: There are 4 good pairs (0,3), (0,4), (3,4), (2,5) 0-indexed."
   ]
  },
  {
   "attachments": {},
   "cell_type": "markdown",
   "metadata": {},
   "source": [
    "Solution"
   ]
  },
  {
   "cell_type": "code",
   "execution_count": 18,
   "metadata": {},
   "outputs": [
    {
     "name": "stdout",
     "output_type": "stream",
     "text": [
      "4\n"
     ]
    }
   ],
   "source": [
    "def best_pair(nums):\n",
    "    good_pair = 0 \n",
    "    for i in range(len(nums)):\n",
    "        for j in range(i + 1, len(nums)):\n",
    "            if nums[i] == nums[j] and i < j:\n",
    "                good_pair +=1\n",
    "    return good_pair\n",
    " "
   ]
  },
  {
   "attachments": {},
   "cell_type": "markdown",
   "metadata": {},
   "source": [
    "\n",
    "\n",
    "\n",
    "Q.14. Given two arrays of integers nums and index. Your task is to create target array under the following rules: Initially target array is empty.From left to right read nums[i] and index[i], insert at index index[i] the value nums[i] in target array.Repeat the previous step until there are no elements to read in nums and index. Return the target array.It is guaranteed that the insertion operations will be valid.\n",
    "\n",
    "Example:\n",
    "Input: nums = [0,1,2,3,4], index = [0,1,2,2,1]\n",
    "Output: [0,4,1,3,2]\n",
    "Explanation: nums index target 0 0 [0] 1 1 [0,1] 2 2 [0,1,2] 3 2 [0,1,3,2] 4 1 [0,4,1,3,2]\n"
   ]
  },
  {
   "attachments": {},
   "cell_type": "markdown",
   "metadata": {},
   "source": [
    "Solution"
   ]
  },
  {
   "cell_type": "code",
   "execution_count": 23,
   "metadata": {},
   "outputs": [
    {
     "name": "stdout",
     "output_type": "stream",
     "text": [
      "[0, 4, 1, 3, 2]\n"
     ]
    }
   ],
   "source": [
    "def array_insertion(nums,index):\n",
    "    target_array = []\n",
    "   \n",
    "    for i in range(len(nums)):\n",
    "        target_array.insert(index[i], nums[i])\n",
    "\n",
    "    return target_array        \n",
    "nums = [0,1,2,3,4]\n",
    "index = [0,1,2,2,1]\n",
    "output = array_insertion(nums,index)\n",
    "print(output)"
   ]
  },
  {
   "attachments": {},
   "cell_type": "markdown",
   "metadata": {},
   "source": [
    "\n",
    "Q.15. Balanced strings are those that have an equal quantity of 'L' and 'R' characters. Given a balanced string s, split it in the maximum amount of balanced strings. Return the maximum amount of split balanced strings.\n",
    "\n",
    "Example 1:\n",
    "Input: s = \"RLRRLLRLRL\"\n",
    "Output: 4\n",
    "Explanation: s can be split into \"RL\", \"RRLL\", \"RL\", \"RL\", each substring contains same number of 'L' and 'R'.\n",
    "Example 2:\n",
    "Input: s = \"RLLLLRRRLR\"\n",
    "Output: 3\n",
    "Explanation: s can be split into \"RL\", \"LLLRRR\", \"LR\", each substring contains same number of 'L' and 'R'."
   ]
  },
  {
   "attachments": {},
   "cell_type": "markdown",
   "metadata": {},
   "source": [
    "Solution"
   ]
  },
  {
   "cell_type": "code",
   "execution_count": 32,
   "metadata": {},
   "outputs": [
    {
     "name": "stdout",
     "output_type": "stream",
     "text": [
      "4\n"
     ]
    }
   ],
   "source": [
    "def balanced_string(s):\n",
    "    balance = 0\n",
    "    count = 0\n",
    "    for i in s:\n",
    "        if i == \"R\":\n",
    "         balance +=1\n",
    "        else:\n",
    "         balance -=1\n",
    "\n",
    "        if balance == 0:\n",
    "            count +=1\n",
    "    return count\n",
    "s = \"RLRRLLRLRL\"\n",
    "output = balanced_string(s)\n",
    "print(output)\n",
    "                "
   ]
  },
  {
   "attachments": {},
   "cell_type": "markdown",
   "metadata": {},
   "source": [
    "\n",
    "Q.16. You own a Goal Parser that can interpret a string command. The command consists of an alphabet of \"G\", \"()\" and/or \"(al)\" in some order. The Goal Parser will interpret \"G\" as the string \"G\", \"()\" as the string \"o\", and \"(al)\" as the string \"al\". The interpreted strings are then concatenated in the original order. Given the string command, return the Goal Parser's interpretation of command.\n",
    "\n",
    "Example 1:\n",
    "Input: command = \"G()(al)\"\n",
    "Output: \"Goal\"\n",
    "Explanation: The Goal Parser interprets the command as follows: G -> G () -> o (al) -> al The final concatenated result is \"Goal\".\n",
    "Example 2:\n",
    "Input: command = \"G()()()()(al)\"\n",
    "Output: \"Gooooal\""
   ]
  },
  {
   "attachments": {},
   "cell_type": "markdown",
   "metadata": {},
   "source": [
    "Solution"
   ]
  },
  {
   "cell_type": "code",
   "execution_count": 34,
   "metadata": {},
   "outputs": [
    {
     "name": "stdout",
     "output_type": "stream",
     "text": [
      "Gooooal\n"
     ]
    }
   ],
   "source": [
    "def interpret(command):\n",
    "    command = command.replace(\"()\", \"o\")\n",
    "    command = command.replace(\"(al)\", \"al\")\n",
    "    return command\n",
    "command = \"G()()()()(al)\"\n",
    "print(interpret(command)) "
   ]
  },
  {
   "attachments": {},
   "cell_type": "markdown",
   "metadata": {},
   "source": [
    "\n",
    "\n",
    "\n",
    "Q.17. Given two string arrays word1 and word2, return true if the two arrays represent the same string, and false otherwise. A string is represented by an array if the array elements concatenated in order forms the string.\n",
    "\n",
    "Example 1:\n",
    "Input: word1 = [\"ab\", \"c\"], word2 = [\"a\", \"bc\"]\n",
    "Output: true\n",
    "Explanation: word1 represents string \"ab\" + \"c\" -> \"abc\" word2 represents string \"a\" + \"bc\" -> \"abc\" The strings are the same, so return true.\n",
    "Example 2:\n",
    "Input: word1 = [\"a\", \"cb\"], word2 = [\"ab\", \"c\"]\n",
    "Output: false\n"
   ]
  },
  {
   "attachments": {},
   "cell_type": "markdown",
   "metadata": {},
   "source": [
    "Solution"
   ]
  },
  {
   "cell_type": "code",
   "execution_count": 35,
   "metadata": {},
   "outputs": [
    {
     "name": "stdout",
     "output_type": "stream",
     "text": [
      "True\n"
     ]
    }
   ],
   "source": [
    "def is_equal(word1, word2):\n",
    "    concat_word1 = \"\"\n",
    "    concat_word2 = \"\"\n",
    "\n",
    "    for word in word1:\n",
    "        concat_word1 += word\n",
    "    for word in word2:\n",
    "        concat_word2 += word\n",
    "    return concat_word1 == concat_word2        \n",
    "word1_1 = [\"ab\", \"c\"]\n",
    "word2_1 = [\"a\", \"bc\"]\n",
    "print(is_equal(word1_1, word2_1))"
   ]
  },
  {
   "attachments": {},
   "cell_type": "markdown",
   "metadata": {},
   "source": [
    "\n",
    "\n",
    "\n",
    "Q.18. Given a positive integer n, find the sum of all integers in the range [1, n] inclusive that are divisible by 3, 5, or 7.\n",
    "\n",
    "Return an integer denoting the sum of all numbers in the given range satisfying the constraint.\n",
    "Example 1:\n",
    "Input: n = 7\n",
    "Output: 21\n",
    "Explanation: Numbers in the range [1, 7] that are divisible by 3, 5, or 7 are 3, 5, 6, 7. The sum of these numbers is 21.\n",
    "Example 2:\n",
    "Input: n = 10\n",
    "Output: 40\n",
    "Explanation: Numbers in the range [1, 10] that are divisible by 3, 5, or 7 are 3, 5, 6, 7, 9, 10. The sum of these numbers is 40.\n"
   ]
  },
  {
   "attachments": {},
   "cell_type": "markdown",
   "metadata": {},
   "source": [
    "Solution"
   ]
  },
  {
   "cell_type": "code",
   "execution_count": 41,
   "metadata": {},
   "outputs": [
    {
     "name": "stdout",
     "output_type": "stream",
     "text": [
      "21\n"
     ]
    }
   ],
   "source": [
    "def sum_n(n):\n",
    "    divisible = 0\n",
    "    for nums in range(1,n+1):\n",
    "        if nums % 3 == 0 or nums % 5 == 0 or nums % 7 == 0:\n",
    "            divisible += nums\n",
    "    return(divisible)\n",
    "n = 7\n",
    "print(sum_n(n))        "
   ]
  },
  {
   "attachments": {},
   "cell_type": "markdown",
   "metadata": {},
   "source": [
    "Q.19. You are given a 0-indexed array words consisting of distinct strings.\n",
    "The string words[i] can be paired with the string words[j] if:\n",
    "The string words[i] is equal to the reversed string of words[j].\n",
    "0 <= i < j < words.length.\n",
    "Return the maximum number of pairs that can be formed from the array words.\n",
    "Note that each string can belong in at most one pair.\n",
    "Example 1:\n",
    "Input: words = [\"cd\",\"ac\",\"dc\",\"ca\",\"zz\"]\n",
    "Output: 2\n",
    "Explanation: In this example, we can form 2 pair of strings in the following way:\n",
    "We pair the 0th string with the 2nd string, as the reversed string of word[0] is \"dc\" and is equal to words[2].\n",
    "We pair the 1st string with the 3rd string, as the reversed string of word[1] is \"ca\" and is equal to words[3]. It can be proven that 2 is the maximum number of pairs that can be formed.\n",
    "\n",
    "Example 2:\n",
    "Input: words = [\"ab\",\"ba\",\"cc\"]\n",
    "Output: 1\n",
    "Explanation: In this example, we can form 1 pair of strings in the following way:\n",
    "We pair the 0th string with the 1st string, as the reversed string of words[1] is \"ab\" and is equal to words[0]. It can be proven that 1 is the maximum number of pairs that can be formed.\n"
   ]
  },
  {
   "attachments": {},
   "cell_type": "markdown",
   "metadata": {},
   "source": [
    "Solution"
   ]
  },
  {
   "cell_type": "code",
   "execution_count": null,
   "metadata": {},
   "outputs": [],
   "source": []
  },
  {
   "attachments": {},
   "cell_type": "markdown",
   "metadata": {},
   "source": [
    "\n",
    "Q.20. Given a positive integer n, find the pivot integer x such that:\n",
    "\n",
    "The sum of all elements between 1 and x inclusively equals the sum of all elements between x and n inclusively.\n",
    "Return the pivot integer x. If no such integer exists, return -1. It is guaranteed that there will be at most one pivot index for the given input.\n",
    "Example 1:\n",
    "Input: n = 8\n",
    "Output: 6\n",
    "Explanation: 6 is the pivot integer since: 1 + 2 + 3 + 4 + 5 + 6 = 6 + 7 + 8 = 21.\n",
    "Example 2:\n",
    "Input: n = 1\n",
    "Output: 1\n",
    "Explanation: 1 is the pivot integer since: 1 = 1.\n",
    "Example 3:\n",
    "Input: n = 4\n",
    "Output: -1\n",
    "Explanation: It can be proved that no such integer exist.\n",
    "\n",
    "\n"
   ]
  },
  {
   "attachments": {},
   "cell_type": "markdown",
   "metadata": {},
   "source": [
    "Solution"
   ]
  },
  {
   "cell_type": "code",
   "execution_count": null,
   "metadata": {},
   "outputs": [],
   "source": []
  }
 ],
 "metadata": {
  "kernelspec": {
   "display_name": "Python 3",
   "language": "python",
   "name": "python3"
  },
  "language_info": {
   "codemirror_mode": {
    "name": "ipython",
    "version": 3
   },
   "file_extension": ".py",
   "mimetype": "text/x-python",
   "name": "python",
   "nbconvert_exporter": "python",
   "pygments_lexer": "ipython3",
   "version": "3.11.2"
  },
  "orig_nbformat": 4
 },
 "nbformat": 4,
 "nbformat_minor": 2
}
